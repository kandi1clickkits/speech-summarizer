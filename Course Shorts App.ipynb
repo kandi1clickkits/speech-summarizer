{
 "cells": [
  {
   "cell_type": "markdown",
   "id": "add6fb91",
   "metadata": {},
   "source": [
    "### Course Shorts App"
   ]
  },
  {
   "cell_type": "markdown",
   "id": "9263e2e8",
   "metadata": {},
   "source": [
    "Building Course Shorts App that transcribes and summarizes speech input with transformer based pretrained models and open-source libraries"
   ]
  },
  {
   "cell_type": "markdown",
   "id": "d16c1ccc",
   "metadata": {},
   "source": [
    "Speech file <b>must</b> meet below specifications\n",
    "1. <b>wav</b> file format\n",
    "2. sample rate of <b>16KHz</b>\n",
    "3. <b>mono</b> type audio channel"
   ]
  },
  {
   "cell_type": "markdown",
   "id": "71e0eb89",
   "metadata": {},
   "source": [
    "<b>Note:</b> Update variables under <b>Variables</b> section to configure inputs if required before running the notebook. \n",
    "\n",
    "The variable <b>INPUT_AUDIO_FILE</b> takes input audio file to be summarised and outputs the summarisation of input audio file into <b>OUTPUT_SUMMARISED_FILE</b>\n",
    "\n",
    "To run notebook cell by cell, click on a cell and click <b>Run</b> button below the <b>Menu</b> bar. Or to run all cells, select <b>Cell --> Run All from Menu bar.</b>"
   ]
  },
  {
   "cell_type": "markdown",
   "id": "1ec41ef6",
   "metadata": {},
   "source": [
    "#### Variables"
   ]
  },
  {
   "cell_type": "code",
   "execution_count": 1,
   "id": "d4b2c7b6",
   "metadata": {},
   "outputs": [],
   "source": [
    "INPUT_AUDIO_FILE=r\"input/speech.wav\""
   ]
  },
  {
   "cell_type": "markdown",
   "id": "a9e32e0b",
   "metadata": {},
   "source": [
    "Default variable set for writing output into a file"
   ]
  },
  {
   "cell_type": "code",
   "execution_count": 2,
   "id": "6ebfcd33",
   "metadata": {},
   "outputs": [],
   "source": [
    "OUTPUT_SUMMARISED_FILE=r\"output/summarised_text.txt\""
   ]
  },
  {
   "cell_type": "markdown",
   "id": "63d1479e",
   "metadata": {},
   "source": [
    "#### Import libraries to run the app"
   ]
  },
  {
   "cell_type": "code",
   "execution_count": 3,
   "id": "cd646fab",
   "metadata": {},
   "outputs": [],
   "source": [
    "import speech_summarizer"
   ]
  },
  {
   "cell_type": "markdown",
   "id": "5bc0aeaa",
   "metadata": {},
   "source": [
    "#### Run the App"
   ]
  },
  {
   "cell_type": "code",
   "execution_count": 4,
   "id": "eee49244",
   "metadata": {},
   "outputs": [
    {
     "name": "stdout",
     "output_type": "stream",
     "text": [
      "Pretrained model found.\n",
      "Transcribing ...\n",
      "Summarising ...\n",
      "----------------------------\n",
      "Summarised output:  Being a multi planetry species is important for the long terme survival of humanity. It creates a sense of adventure and it makes people excited about the future. There need to be reasons to get up in the morning you know life can't just be about solving problems otherwise what's the point.\n",
      "----------------------------\n",
      "Output is written to the file: output/summarised_text.txt\n"
     ]
    }
   ],
   "source": [
    "speech_summarizer.run_app(INPUT_AUDIO_FILE, OUTPUT_SUMMARISED_FILE)"
   ]
  },
  {
   "cell_type": "code",
   "execution_count": null,
   "id": "2e83225d",
   "metadata": {},
   "outputs": [],
   "source": []
  }
 ],
 "metadata": {
  "kernelspec": {
   "display_name": "Python 3 (ipykernel)",
   "language": "python",
   "name": "python3"
  },
  "language_info": {
   "codemirror_mode": {
    "name": "ipython",
    "version": 3
   },
   "file_extension": ".py",
   "mimetype": "text/x-python",
   "name": "python",
   "nbconvert_exporter": "python",
   "pygments_lexer": "ipython3",
   "version": "3.9.6"
  }
 },
 "nbformat": 4,
 "nbformat_minor": 5
}
